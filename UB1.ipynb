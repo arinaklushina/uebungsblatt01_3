{
 "cells": [
  {
   "cell_type": "code",
   "execution_count": 77,
   "id": "146780dd",
   "metadata": {},
   "outputs": [],
   "source": [
    "with open(\"/Users/arinaklushina/Desktop/TUDO/IS/presidents.txt\", \"r\") as file:\n",
    "    lines = file.readlines()\n",
    "    \n",
    "first_string = lines[0].split('#')[1].strip()\n",
    "second_string = lines[1].split('#')[1].strip()\n",
    "\n",
    "first_string = first_string.split('presidents:[')[1].strip()\n",
    "second_string = second_string.split('hobby:[')[1].strip()\n",
    "\n",
    "first_string = first_string[:-1]\n",
    "first_string_new = first_string.split(';')\n",
    "\n",
    "second_string_new = second_string.split(';')"
   ]
  },
  {
   "cell_type": "code",
   "execution_count": 79,
   "id": "534b6947",
   "metadata": {},
   "outputs": [
    {
     "name": "stdout",
     "output_type": "stream",
     "text": [
      "['(Washington:Federalist:Virginia)', '(Jefferson:DemoRep:Virginia)', '(Harrison:Whig:Virginia)', '(Lincoln:Republican:Kentucky)', '(Cleveland:Democratic:NewJersey)', '(Roosevelt:Republican:NewYork)', '(Kennedy:Democratic:Massachusetts)', '(Clinton:Democratic:Arkansas)', '(Bush:Republican:Texas)', '(Obama:Democratic:Hawaii)', '(Trump:Republican:NewYork)', '(Biden:Democratic:Pennsylvania)'] \n",
      "\n",
      " ['(Jefferson:Fishing)', '(Jefferson:Riding)', '(Harrison:Hunting)', '(Lincoln:Walking)', '(Cleveland:Fishing)', '(Roosevelt:Boxing)', '(Roosevelt:Hunting)', '(Roosevelt:Jujitsu)', '(Roosevelt:Riding)', '(Roosevelt:Shooting)', '(Roosevelt:Tennis)', '(Roosevelt:Wrestling)', '(Kennedy:Sailing)', '(Kennedy:Swimming)', '(Kennedy:TouchFootball)', '(Clinton:Saxophone)', '(Bush:Baseball)', '(Bush:Golf)', '(Bush:Fishing)', '(Obama:Basketball)', '(Obama:Poker)', '(Obama:Cooking)', '(Trump:Golf)', '(Trump:WatchingTV)', '(Trump:PublicSpeaking)', '(Biden:Exercise)', '(Biden:Sports)', '(Biden:Reading)]']\n"
     ]
    }
   ],
   "source": [
    "print(first_string_new, '\\n\\n', second_string_new)"
   ]
  },
  {
   "cell_type": "code",
   "execution_count": 80,
   "id": "26da046c",
   "metadata": {},
   "outputs": [
    {
     "data": {
      "text/plain": [
       "['Washington:Federalist:Virginia',\n",
       " 'Jefferson:DemoRep:Virginia',\n",
       " 'Harrison:Whig:Virginia',\n",
       " 'Lincoln:Republican:Kentucky',\n",
       " 'Cleveland:Democratic:NewJersey',\n",
       " 'Roosevelt:Republican:NewYork',\n",
       " 'Kennedy:Democratic:Massachusetts',\n",
       " 'Clinton:Democratic:Arkansas',\n",
       " 'Bush:Republican:Texas',\n",
       " 'Obama:Democratic:Hawaii',\n",
       " 'Trump:Republican:NewYork',\n",
       " 'Biden:Democratic:Pennsylvania']"
      ]
     },
     "execution_count": 80,
     "metadata": {},
     "output_type": "execute_result"
    }
   ],
   "source": [
    "l1 = []\n",
    "for elem in first_string_new:\n",
    "    l1.append(elem[1:-1])\n",
    "l1"
   ]
  },
  {
   "cell_type": "code",
   "execution_count": 73,
   "id": "3e14ba26",
   "metadata": {},
   "outputs": [
    {
     "data": {
      "text/plain": [
       "['Jefferson:Fishing',\n",
       " 'Jefferson:Riding',\n",
       " 'Harrison:Hunting',\n",
       " 'Lincoln:Walking',\n",
       " 'Cleveland:Fishing',\n",
       " 'Roosevelt:Boxing',\n",
       " 'Roosevelt:Hunting',\n",
       " 'Roosevelt:Jujitsu',\n",
       " 'Roosevelt:Riding',\n",
       " 'Roosevelt:Shooting',\n",
       " 'Roosevelt:Tennis',\n",
       " 'Roosevelt:Wrestling',\n",
       " 'Kennedy:Sailing',\n",
       " 'Kennedy:Swimming',\n",
       " 'Kennedy:TouchFootball',\n",
       " 'Clinton:Saxophone',\n",
       " 'Bush:Baseball',\n",
       " 'Bush:Golf',\n",
       " 'Bush:Fishing',\n",
       " 'Obama:Basketball',\n",
       " 'Obama:Poker',\n",
       " 'Obama:Cooking',\n",
       " 'Trump:Golf',\n",
       " 'Trump:WatchingTV',\n",
       " 'Trump:PublicSpeaking',\n",
       " 'Biden:Exercise',\n",
       " 'Biden:Sports',\n",
       " 'Biden:Reading']"
      ]
     },
     "execution_count": 73,
     "metadata": {},
     "output_type": "execute_result"
    }
   ],
   "source": [
    "l2 = []\n",
    "for elem in second_string_new:\n",
    "    l2.append(elem[1:-1])\n",
    "l2"
   ]
  },
  {
   "cell_type": "code",
   "execution_count": 81,
   "id": "839459db",
   "metadata": {},
   "outputs": [
    {
     "data": {
      "text/plain": [
       "['Federalist', 'Virginia']"
      ]
     },
     "execution_count": 81,
     "metadata": {},
     "output_type": "execute_result"
    }
   ],
   "source": [
    "l1[0].split(':')[0]\n",
    "l1[0].split(':')[1:]"
   ]
  },
  {
   "cell_type": "code",
   "execution_count": 82,
   "id": "7d096a16",
   "metadata": {},
   "outputs": [
    {
     "data": {
      "text/plain": [
       "{'Washington': ['Federalist', 'Virginia'],\n",
       " 'Jefferson': ['DemoRep', 'Virginia'],\n",
       " 'Harrison': ['Whig', 'Virginia'],\n",
       " 'Lincoln': ['Republican', 'Kentucky'],\n",
       " 'Cleveland': ['Democratic', 'NewJersey'],\n",
       " 'Roosevelt': ['Republican', 'NewYork'],\n",
       " 'Kennedy': ['Democratic', 'Massachusetts'],\n",
       " 'Clinton': ['Democratic', 'Arkansas'],\n",
       " 'Bush': ['Republican', 'Texas'],\n",
       " 'Obama': ['Democratic', 'Hawaii'],\n",
       " 'Trump': ['Republican', 'NewYork'],\n",
       " 'Biden': ['Democratic', 'Pennsylvania']}"
      ]
     },
     "execution_count": 82,
     "metadata": {},
     "output_type": "execute_result"
    }
   ],
   "source": [
    "d1 = {}\n",
    "\n",
    "for elem in l1:\n",
    "    d1[elem.split(':')[0]] = elem.split(':')[1:]\n",
    "d1"
   ]
  },
  {
   "cell_type": "markdown",
   "id": "f59264aa",
   "metadata": {},
   "source": [
    "# ONLY ONE HOBBY IN ANY LIST!!!"
   ]
  },
  {
   "cell_type": "code",
   "execution_count": 90,
   "id": "33fbe3f0",
   "metadata": {},
   "outputs": [
    {
     "name": "stdout",
     "output_type": "stream",
     "text": [
      "{'Washington': [], 'Jefferson': ['Fishing', 'Riding'], 'Harrison': ['Hunting'], 'Lincoln': ['Walking'], 'Cleveland': ['Fishing'], 'Roosevelt': ['Boxing', 'Hunting', 'Jujitsu', 'Riding', 'Shooting', 'Tennis', 'Wrestling'], 'Kennedy': ['Sailing', 'Swimming', 'TouchFootball'], 'Clinton': ['Saxophone'], 'Bush': ['Baseball', 'Golf', 'Fishing'], 'Obama': ['Basketball', 'Poker', 'Cooking'], 'Trump': ['Golf', 'WatchingTV', 'PublicSpeaking'], 'Biden': ['Exercise', 'Sports', 'Reading']}\n"
     ]
    },
    {
     "data": {
      "text/plain": [
       "\"\\nfor elem in l2:\\n    d2[elem.split(':')[0]].append(elem.split(':')[1:])\\nd2\""
      ]
     },
     "execution_count": 90,
     "metadata": {},
     "output_type": "execute_result"
    }
   ],
   "source": [
    "d2 = {}\n",
    "\n",
    "for president in d1:\n",
    "    d2[president] = []\n",
    "    for candidate in l2:\n",
    "        if president in candidate:\n",
    "            d2[president].append(candidate.split(':')[1:][0])\n",
    "print(d2)\n",
    "    \n",
    "'''\n",
    "for elem in l2:\n",
    "    d2[elem.split(':')[0]].append(elem.split(':')[1:])\n",
    "d2'''"
   ]
  },
  {
   "cell_type": "markdown",
   "id": "172bc65c",
   "metadata": {},
   "source": [
    "## Aufgabe 2.a: die Namen aller Präsidenten, welche der republikanischen Partei (Republican) an- gehören oder angehörten."
   ]
  },
  {
   "cell_type": "code",
   "execution_count": 57,
   "id": "e4969e40",
   "metadata": {},
   "outputs": [
    {
     "name": "stdout",
     "output_type": "stream",
     "text": [
      "['Lincoln', 'Roosevelt', 'Bush', 'Trump']\n"
     ]
    }
   ],
   "source": [
    "desired_value = 'Republican'\n",
    "matching_keys = [key for key, value in d1.items() if desired_value in value]\n",
    "\n",
    "print(matching_keys) "
   ]
  },
  {
   "cell_type": "markdown",
   "id": "9c94f6a5",
   "metadata": {},
   "source": [
    "## Aufgabe 2.b: die Namen aller Präsidenten, welche der republikanischen Partei (Republican) an- gehören oder angehörten, in alphabetischer Reihenfolge."
   ]
  },
  {
   "cell_type": "code",
   "execution_count": 58,
   "id": "3eb1e1e7",
   "metadata": {},
   "outputs": [
    {
     "name": "stdout",
     "output_type": "stream",
     "text": [
      "['Bush', 'Lincoln', 'Roosevelt', 'Trump']\n"
     ]
    }
   ],
   "source": [
    "print(sorted(matching_keys))"
   ]
  },
  {
   "cell_type": "markdown",
   "id": "ffc9c2a7",
   "metadata": {},
   "source": [
    "## Aufgabe 2.c: die Hobbys aller Präsidenten, welche nicht der demokratischen Partei (Democratic) angehören. Diese Informationen sollen in Form von Paaren der Form (party:hobby) ausgegeben werden, wobei hobby ein Hobby eines Präsidenten ist, welcher der Partei party angehört."
   ]
  },
  {
   "cell_type": "code",
   "execution_count": 59,
   "id": "e59cd42d",
   "metadata": {},
   "outputs": [
    {
     "data": {
      "text/plain": [
       "['Washington',\n",
       " 'Jefferson',\n",
       " 'Harrison',\n",
       " 'Lincoln',\n",
       " 'Roosevelt',\n",
       " 'Bush',\n",
       " 'Trump']"
      ]
     },
     "execution_count": 59,
     "metadata": {},
     "output_type": "execute_result"
    }
   ],
   "source": [
    "pres_not_dem = [key for key, value in d1.items() if 'Democratic' not in value]\n",
    "pres_not_dem"
   ]
  },
  {
   "cell_type": "code",
   "execution_count": 91,
   "id": "969d4260",
   "metadata": {},
   "outputs": [
    {
     "name": "stdout",
     "output_type": "stream",
     "text": [
      "Washington []\n",
      "Jefferson ['Fishing', 'Riding']\n",
      "Harrison ['Hunting']\n",
      "Lincoln ['Walking']\n",
      "Roosevelt ['Boxing', 'Hunting', 'Jujitsu', 'Riding', 'Shooting', 'Tennis', 'Wrestling']\n",
      "Bush ['Baseball', 'Golf', 'Fishing']\n",
      "Trump ['Golf', 'WatchingTV', 'PublicSpeaking']\n"
     ]
    }
   ],
   "source": [
    "for elem in d2:\n",
    "    if elem in pres_not_dem:\n",
    "        print(elem, d2[elem])\n"
   ]
  },
  {
   "cell_type": "markdown",
   "id": "c992b294",
   "metadata": {},
   "source": [
    "## Aufgabe 2.d: für jeden Präsidenten die Anzahl seiner Hobbys. Es sollen Paare der Form (name:number_of_hobbies) ausgegeben werden, wobei number_of_hobbies die Anzahl der Hobbys des Präsidenten angibt.\n"
   ]
  },
  {
   "cell_type": "code",
   "execution_count": 94,
   "id": "74355f6f",
   "metadata": {},
   "outputs": [
    {
     "ename": "AttributeError",
     "evalue": "'str' object has no attribute 'value'",
     "output_type": "error",
     "traceback": [
      "\u001b[0;31m---------------------------------------------------------------------------\u001b[0m",
      "\u001b[0;31mAttributeError\u001b[0m                            Traceback (most recent call last)",
      "Input \u001b[0;32mIn [94]\u001b[0m, in \u001b[0;36m<cell line: 1>\u001b[0;34m()\u001b[0m\n\u001b[1;32m      1\u001b[0m \u001b[38;5;28;01mfor\u001b[39;00m elem \u001b[38;5;129;01min\u001b[39;00m d2:\n\u001b[0;32m----> 2\u001b[0m     \u001b[38;5;28mprint\u001b[39m(elem, \u001b[38;5;28mlen\u001b[39m(\u001b[43melem\u001b[49m\u001b[38;5;241;43m.\u001b[39;49m\u001b[43mvalue\u001b[49m()))\n",
      "\u001b[0;31mAttributeError\u001b[0m: 'str' object has no attribute 'value'"
     ]
    }
   ],
   "source": [
    "for elem in d2:\n",
    "    print(elem, len(elem.value()))"
   ]
  },
  {
   "cell_type": "code",
   "execution_count": null,
   "id": "aa356b26",
   "metadata": {},
   "outputs": [],
   "source": []
  }
 ],
 "metadata": {
  "kernelspec": {
   "display_name": "Python 3 (ipykernel)",
   "language": "python",
   "name": "python3"
  },
  "language_info": {
   "codemirror_mode": {
    "name": "ipython",
    "version": 3
   },
   "file_extension": ".py",
   "mimetype": "text/x-python",
   "name": "python",
   "nbconvert_exporter": "python",
   "pygments_lexer": "ipython3",
   "version": "3.9.12"
  }
 },
 "nbformat": 4,
 "nbformat_minor": 5
}
